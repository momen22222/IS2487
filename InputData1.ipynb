{
  "nbformat": 4,
  "nbformat_minor": 0,
  "metadata": {
    "colab": {
      "provenance": []
    },
    "kernelspec": {
      "name": "python3",
      "display_name": "Python 3"
    },
    "language_info": {
      "name": "python"
    }
  },
  "cells": [
    {
      "cell_type": "code",
      "execution_count": null,
      "metadata": {
        "id": "gEqx7cRkrac9"
      },
      "outputs": [],
      "source": [
        "\n",
        "Morgan Menlove\n",
        "January 17th, 2024\n",
        "Quantitative data is numerical, allowing for measurement and comparison\n",
        "Example: Number of total customers in a store 30\n",
        "Qualitative data is descriptive and characterizes attributes or properties\n",
        "that are not numerical. It can be observed but not measured.\n",
        "Example: Hair Color, Brown\n",
        "Casting: The process of converting one type of data into another type.\n",
        "you would need to use it in a math problem of two integers to a floating type\n",
        "Percision: Refers to the total number of significant digits in a floating-point number\n",
        "Scale: Refers specifically to the number of digits after the decimal point\n",
        "Ex: 10.678 Percision: 5 Scale: 3\n"
      ]
    },
    {
      "cell_type": "code",
      "source": [
        "# Problem 1\n",
        "print(\"Morgan\" + \" \" + \"Menlove\" + \"\\n\" + \"momen@gmail.com\")"
      ],
      "metadata": {
        "colab": {
          "base_uri": "https://localhost:8080/"
        },
        "id": "7NV-5fcUjTwL",
        "outputId": "bab10ee3-774e-4bb0-ede4-05b45688979c"
      },
      "execution_count": null,
      "outputs": [
        {
          "output_type": "stream",
          "name": "stdout",
          "text": [
            "Morgan Menlove\n",
            "momen@gmail.com\n"
          ]
        }
      ]
    },
    {
      "cell_type": "code",
      "source": [
        "# Problem 2\n",
        "x = 100\n",
        "y = 15\n",
        "print(x*y)\n",
        "print(x/y)\n",
        "print(type(x/y))"
      ],
      "metadata": {
        "colab": {
          "base_uri": "https://localhost:8080/"
        },
        "id": "W4Kdp_4NmcMB",
        "outputId": "1644c39b-1700-41e7-8378-04e47b6ed025"
      },
      "execution_count": null,
      "outputs": [
        {
          "output_type": "stream",
          "name": "stdout",
          "text": [
            "1500\n",
            "6.666666666666667\n",
            "<class 'float'>\n"
          ]
        }
      ]
    },
    {
      "cell_type": "code",
      "source": [
        "# Problem 3\n",
        "x = int(input(\"What is your age?\"))\n",
        "y = int(input(\"What year were you born?\"))\n",
        "print(x*y)\n",
        "print(type(x*y))\n",
        "print(x/y)\n",
        "print(type(x/y))"
      ],
      "metadata": {
        "colab": {
          "base_uri": "https://localhost:8080/"
        },
        "id": "JTHVgsLr4Mtw",
        "outputId": "465dcc5d-b83a-4f4f-f080-db8402379f74"
      },
      "execution_count": null,
      "outputs": [
        {
          "output_type": "stream",
          "name": "stdout",
          "text": [
            "What is your age?21\n",
            "What year were you born?2002\n",
            "42042\n",
            "<class 'int'>\n",
            "0.01048951048951049\n",
            "<class 'float'>\n"
          ]
        }
      ]
    },
    {
      "cell_type": "code",
      "source": [
        "a = True\n",
        "b = False\n",
        "print(a or b)\n",
        "a = False\n",
        "b = False\n",
        "print(a and (a or b))\n",
        "a = False\n",
        "b = True\n",
        "print(not a)"
      ],
      "metadata": {
        "colab": {
          "base_uri": "https://localhost:8080/"
        },
        "id": "GHfuFNpH9mLl",
        "outputId": "104bb083-5eca-4d1b-d9de-ad2f48de9f72"
      },
      "execution_count": null,
      "outputs": [
        {
          "output_type": "stream",
          "name": "stdout",
          "text": [
            "True\n",
            "False\n",
            "True\n"
          ]
        }
      ]
    },
    {
      "cell_type": "markdown",
      "source": [
        "Problem 4\n",
        "1. True\n",
        "2. False\n",
        "3. True"
      ],
      "metadata": {
        "id": "Wy7rO6HN8h5k"
      }
    },
    {
      "cell_type": "code",
      "source": [
        "# Problem 5\n",
        "x = \"University of Utah\"\n",
        "print(x[14] + x[8] + x[4] + x[6] + \"!\")\n"
      ],
      "metadata": {
        "colab": {
          "base_uri": "https://localhost:8080/"
        },
        "id": "j3Uy5MTq_W-f",
        "outputId": "62dd1476-7fae-4859-e05d-e48ad571bc96"
      },
      "execution_count": null,
      "outputs": [
        {
          "output_type": "stream",
          "name": "stdout",
          "text": [
            "Utes!\n"
          ]
        }
      ]
    },
    {
      "cell_type": "code",
      "source": [
        "# Problem 6\n",
        "x = \"To be, or not to be, that is the question:Whether 'tis nobler in the mind to suffer The slings and arrows of outrageous fortune, Or to take arms against a sea of troubles And by opposing end them.\"\n",
        "y = x[171] + x[170] + x[163] + x[168] + x[166] + x[168] + x[167] + x[50] + x[53] + x[2] + x[21] + x[22] + x[7] + x[8] + x[10] + x[195]\n",
        "print(y)"
      ],
      "metadata": {
        "colab": {
          "base_uri": "https://localhost:8080/"
        },
        "id": "lVmX3FVLKJpE",
        "outputId": "1244e317-d108-4317-dd55-d27c2b982eb2"
      },
      "execution_count": null,
      "outputs": [
        {
          "metadata": {
            "tags": null
          },
          "name": "stdout",
          "output_type": "stream",
          "text": [
            "A rebel's thorn.\n"
          ]
        }
      ]
    }
  ]
}