{
  "cells": [
    {
      "cell_type": "code",
      "execution_count": null,
      "metadata": {
        "colab": {
          "base_uri": "https://localhost:8080/",
          "height": 109
        },
        "id": "fpwcgok95rV-",
        "outputId": "510ffafc-6e78-4e75-b8e9-592135467164"
      },
      "outputs": [
        {
          "ename": "SyntaxError",
          "evalue": "invalid decimal literal (<ipython-input-3-dc8accfb8ba2>, line 2)",
          "output_type": "error",
          "traceback": [
            "\u001b[0;36m  File \u001b[0;32m\"<ipython-input-3-dc8accfb8ba2>\"\u001b[0;36m, line \u001b[0;32m2\u001b[0m\n\u001b[0;31m    February 21st, 2024\u001b[0m\n\u001b[0m              ^\u001b[0m\n\u001b[0;31mSyntaxError\u001b[0m\u001b[0;31m:\u001b[0m invalid decimal literal\n"
          ]
        }
      ],
      "source": [
        "#Morgan Menlove\n",
        "February 21st, 2024\n",
        "Built-in-funtion:Built-in functions are pre-defined modules included with the language and always available for use. Think of them as tools built into the Python language that you can use to perform specific tasks.\n",
        "Programmer Defined functions: We can visualize the difference between the programs we've been writing with all of the code in one place versus programs that are made more modular by writing and using functions\n",
        "Void Functions allow us to write code that performs a specific task and then terminates, with no return interaction between the Void Function and the calling program.\n",
        "Value-Return Functions allow us to write code that accepts values (arguments), performs actions on those values, and can return resulting values to the calling program\n",
        "\n"
      ]
    },
    {
      "cell_type": "code",
      "execution_count": null,
      "metadata": {
        "colab": {
          "base_uri": "https://localhost:8080/"
        },
        "id": "D0RpPVNh_HUJ",
        "outputId": "69866db7-2531-4142-abd1-358f98f1e84c"
      },
      "outputs": [
        {
          "name": "stdout",
          "output_type": "stream",
          "text": [
            "Summary Report:\n",
            "---------------\n",
            "Total numbers in the list: 16\n",
            "Maximum value in the list: 94\n",
            "Minimum value in the list: 19\n",
            "Total sum of all numbers: 859\n"
          ]
        }
      ],
      "source": [
        "# Problem 1\n",
        "numbers = [23, 56, 19, 52, 87, 88, 50, 34, 22, 61, 52, 43, 25, 76, 77, 94]\n",
        "\n",
        "num_count = len(numbers)\n",
        "max_value = max(numbers)\n",
        "min_value = min(numbers)\n",
        "total_sum = sum(numbers)\n",
        "\n",
        "print(\"Summary Report:\")\n",
        "print(\"---------------\")\n",
        "print(f\"Total numbers in the list: {num_count}\")\n",
        "print(f\"Maximum value in the list: {max_value}\")\n",
        "print(f\"Minimum value in the list: {min_value}\")\n",
        "print(f\"Total sum of all numbers: {total_sum}\")"
      ]
    },
    {
      "cell_type": "code",
      "execution_count": null,
      "metadata": {
        "id": "so4C7RQ3tpD2"
      },
      "outputs": [],
      "source": [
        "# Problem 2\n",
        "def print_name_info(first_name, last_name):\n",
        "\n",
        "    full_name = f\"{first_name} {last_name}\"\n",
        "    print(\"Full Name:\", full_name)\n",
        "\n",
        "    print(\"Last Name, First Name:\", last_name + \", \" + first_name)\n",
        "\n",
        "    print(\"Name in Upper Case:\", full_name.upper())\n",
        "\n",
        "    print(\"Name with Spaces:\")\n",
        "    for char in full_name:\n",
        "        print(char, end=\" \")\n",
        "\n",
        "\n",
        "first_name = input(\"Enter your first name: \")\n",
        "last_name = input(\"Enter your last name: \")\n",
        "\n",
        "print_name_info(first_name, last_name)"
      ]
    },
    {
      "cell_type": "code",
      "execution_count": null,
      "metadata": {
        "colab": {
          "base_uri": "https://localhost:8080/"
        },
        "id": "7mv9UsY_vDvM",
        "outputId": "d592cc79-c48e-409d-e1a9-3fca24dca9b8"
      },
      "outputs": [
        {
          "output_type": "stream",
          "name": "stdout",
          "text": [
            "Welcome to the dice guessing game!\n",
            "You have 3 attempts to guess the value of the rolled die.\n",
            "Enter your guess (a number between 1 and 6): 3\n",
            "Sorry, that's incorrect. You have 2 guesses left.\n",
            "Enter your guess (a number between 1 and 6): 2\n",
            "Sorry, that's incorrect. You have 1 guesses left.\n",
            "Enter your guess (a number between 1 and 6): 1\n",
            "Sorry, you've run out of guesses. Better luck next time!\n"
          ]
        }
      ],
      "source": [
        "# Problem 3\n",
        "import random\n",
        "\n",
        "def roll_dice():\n",
        "    return random.randint(1, 6)\n",
        "\n",
        "\n",
        "die = roll_dice()\n",
        "guess_attempts = 3\n",
        "\n",
        "print(\"Welcome to the dice guessing game!\")\n",
        "print(\"You have 3 attempts to guess the value of the rolled die.\")\n",
        "\n",
        "while guess_attempts > 0:\n",
        "    guess = int(input(\"Enter your guess (a number between 1 and 6): \"))\n",
        "\n",
        "    if guess == die:\n",
        "        print(\"Congratulations! You guessed the correct value!\")\n",
        "        break\n",
        "    else:\n",
        "        guess_attempts -= 1\n",
        "        if guess_attempts > 0:\n",
        "            print(f\"Sorry, that's incorrect. You have {guess_attempts} guesses left.\")\n",
        "        else:\n",
        "            print(\"Sorry, you've run out of guesses. Better luck next time!\")"
      ]
    }
  ],
  "metadata": {
    "colab": {
      "provenance": []
    },
    "kernelspec": {
      "display_name": "Python 3",
      "name": "python3"
    },
    "language_info": {
      "name": "python"
    }
  },
  "nbformat": 4,
  "nbformat_minor": 0
}