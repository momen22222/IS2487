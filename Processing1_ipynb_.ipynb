{
  "nbformat": 4,
  "nbformat_minor": 0,
  "metadata": {
    "colab": {
      "provenance": []
    },
    "kernelspec": {
      "name": "python3",
      "display_name": "Python 3"
    },
    "language_info": {
      "name": "python"
    }
  },
  "cells": [
    {
      "cell_type": "code",
      "execution_count": null,
      "metadata": {
        "id": "k5evOmXuhi8z"
      },
      "outputs": [],
      "source": [
        "Morgan Menlove\n",
        "February 12th\n",
        "the if statement, which evaluates a condition and runs a block of code if the result of that condition is True\n",
        "the if-else statement runs a block of code based on a true result and a different block of code based on a false statement\n",
        " a \"condition\" refers to an expression that evaluates to either true or false. These conditions are fundamental to controlling the flow of a program,\n",
        "allowing us to make decisions and control repetition through constructs like if statements and loops.\n",
        "for loops are used when you want to iterate over a known sequence or iterable,\n",
        "while while loops are used when you need to iterate based on a condition that may change during the loop execution."
      ]
    },
    {
      "cell_type": "code",
      "source": [
        "#Problem 1\n",
        "x = int(input(\"Enter the value of x: \"))\n",
        "y = int(input(\"Enter the value of y: \"))\n",
        "if x > y:\n",
        "    print(\"X is larger than Y\")\n"
      ],
      "metadata": {
        "id": "UQP9QPUarnJ7",
        "colab": {
          "base_uri": "https://localhost:8080/"
        },
        "outputId": "29b43af7-0cc3-4fc2-d1c0-f12bb31d6861"
      },
      "execution_count": null,
      "outputs": [
        {
          "output_type": "stream",
          "name": "stdout",
          "text": [
            "Enter the value of x: 10\n",
            "Enter the value of y: 9\n",
            "X is larger than Y\n"
          ]
        }
      ]
    },
    {
      "cell_type": "code",
      "source": [
        "#Problem 2\n",
        "x = int(input(\"Enter the value of x: \"))\n",
        "y = int(input(\"Enter the value of y: \"))\n",
        "if x > y:\n",
        "    print(\"X is larger than Y\")\n",
        "else:\n",
        "    print(\"Y is larger than X\")\n"
      ],
      "metadata": {
        "colab": {
          "base_uri": "https://localhost:8080/"
        },
        "id": "LNvuA2xno-MC",
        "outputId": "4268185b-e525-4782-e097-6eb90f10ba27"
      },
      "execution_count": null,
      "outputs": [
        {
          "output_type": "stream",
          "name": "stdout",
          "text": [
            "Enter the value of x: 9\n",
            "Enter the value of y: 10\n",
            "Y is larger than X\n"
          ]
        }
      ]
    },
    {
      "cell_type": "code",
      "source": [
        "#Problem 3\n",
        "x = int(input(\"Enter the value of x: \"))\n",
        "y = int(input(\"Enter the value of y: \"))\n",
        "if x > y:\n",
        "    print(\"X is larger than Y\")\n",
        "elif y > x:\n",
        "    print(\"Y is larger than X\")\n",
        "else:\n",
        "    print(\"X and Y are equal\")\n"
      ],
      "metadata": {
        "colab": {
          "base_uri": "https://localhost:8080/"
        },
        "id": "rHq_9PBKpSXJ",
        "outputId": "87377bf0-9aa2-4dee-bc85-851660429f74"
      },
      "execution_count": null,
      "outputs": [
        {
          "output_type": "stream",
          "name": "stdout",
          "text": [
            "Enter the value of x: 10\n",
            "Enter the value of y: 10\n",
            "X and Y are equal\n"
          ]
        }
      ]
    },
    {
      "cell_type": "code",
      "source": [
        "#Problem 4\n",
        "print(\"Integers from 1 to 100:\")\n",
        "num = 1\n",
        "while num <= 100:\n",
        "    print(num, end=\" \")\n",
        "    num += 1\n",
        "print(\"Integers from 100 down to 1:\")\n",
        "num = 100\n",
        "while num >= 1:\n",
        "    print(num, end=\" \")\n",
        "    num -= 1"
      ],
      "metadata": {
        "colab": {
          "base_uri": "https://localhost:8080/"
        },
        "id": "C0kIe6pZpqMu",
        "outputId": "07725e90-eec7-4ba9-b5e4-25b1d0cf28e8"
      },
      "execution_count": null,
      "outputs": [
        {
          "output_type": "stream",
          "name": "stdout",
          "text": [
            "Integers from 1 to 100:\n",
            "1 2 3 4 5 6 7 8 9 10 11 12 13 14 15 16 17 18 19 20 21 22 23 24 25 26 27 28 29 30 31 32 33 34 35 36 37 38 39 40 41 42 43 44 45 46 47 48 49 50 51 52 53 54 55 56 57 58 59 60 61 62 63 64 65 66 67 68 69 70 71 72 73 74 75 76 77 78 79 80 81 82 83 84 85 86 87 88 89 90 91 92 93 94 95 96 97 98 99 100 Integers from 100 down to 1:\n",
            "100 99 98 97 96 95 94 93 92 91 90 89 88 87 86 85 84 83 82 81 80 79 78 77 76 75 74 73 72 71 70 69 68 67 66 65 64 63 62 61 60 59 58 57 56 55 54 53 52 51 50 49 48 47 46 45 44 43 42 41 40 39 38 37 36 35 34 33 32 31 30 29 28 27 26 25 24 23 22 21 20 19 18 17 16 15 14 13 12 11 10 9 8 7 6 5 4 3 2 1 "
          ]
        }
      ]
    },
    {
      "cell_type": "code",
      "source": [
        "#Problem 5\n",
        "print(\"Numbers from 1 to 100:\")\n",
        "for i in range(1, 101):\n",
        "    print(i, end=\" \")\n",
        "print(\"Numbers from 100 down to 1:\")\n",
        "for i in range(100, 0, -1):\n",
        "    print(i, end=\" \")"
      ],
      "metadata": {
        "colab": {
          "base_uri": "https://localhost:8080/"
        },
        "id": "QEOgU0OlygIY",
        "outputId": "bb4e9bce-cb16-4caa-ded1-d5d21c888167"
      },
      "execution_count": null,
      "outputs": [
        {
          "output_type": "stream",
          "name": "stdout",
          "text": [
            "Numbers from 1 to 100:\n",
            "1 2 3 4 5 6 7 8 9 10 11 12 13 14 15 16 17 18 19 20 21 22 23 24 25 26 27 28 29 30 31 32 33 34 35 36 37 38 39 40 41 42 43 44 45 46 47 48 49 50 51 52 53 54 55 56 57 58 59 60 61 62 63 64 65 66 67 68 69 70 71 72 73 74 75 76 77 78 79 80 81 82 83 84 85 86 87 88 89 90 91 92 93 94 95 96 97 98 99 100 Numbers from 100 down to 1:\n",
            "100 99 98 97 96 95 94 93 92 91 90 89 88 87 86 85 84 83 82 81 80 79 78 77 76 75 74 73 72 71 70 69 68 67 66 65 64 63 62 61 60 59 58 57 56 55 54 53 52 51 50 49 48 47 46 45 44 43 42 41 40 39 38 37 36 35 34 33 32 31 30 29 28 27 26 25 24 23 22 21 20 19 18 17 16 15 14 13 12 11 10 9 8 7 6 5 4 3 2 1 "
          ]
        }
      ]
    },
    {
      "cell_type": "code",
      "source": [
        "#Problem 6\n",
        "print(\"Numbers from 10 to 100:\")\n",
        "for i in range(10, 101):\n",
        "    print(i, end=\" \")"
      ],
      "metadata": {
        "colab": {
          "base_uri": "https://localhost:8080/"
        },
        "id": "5nxEEJoEzKLk",
        "outputId": "99342319-de36-41d5-9470-b891505ae0d0"
      },
      "execution_count": null,
      "outputs": [
        {
          "output_type": "stream",
          "name": "stdout",
          "text": [
            "Numbers from 10 to 100:\n",
            "10 11 12 13 14 15 16 17 18 19 20 21 22 23 24 25 26 27 28 29 30 31 32 33 34 35 36 37 38 39 40 41 42 43 44 45 46 47 48 49 50 51 52 53 54 55 56 57 58 59 60 61 62 63 64 65 66 67 68 69 70 71 72 73 74 75 76 77 78 79 80 81 82 83 84 85 86 87 88 89 90 91 92 93 94 95 96 97 98 99 100 "
          ]
        }
      ]
    },
    {
      "cell_type": "code",
      "source": [
        "#Problem 7\n",
        "print(\"Numbers from 10 to 100 by 10's:\")\n",
        "for i in range(10, 101, 10):\n",
        "    print(i, end=\" \")"
      ],
      "metadata": {
        "colab": {
          "base_uri": "https://localhost:8080/"
        },
        "id": "fIpt37Pzzcuw",
        "outputId": "3c1fc39b-8086-4971-839d-fac06370f20c"
      },
      "execution_count": null,
      "outputs": [
        {
          "output_type": "stream",
          "name": "stdout",
          "text": [
            "Numbers from 10 to 100 by 10's:\n",
            "10 20 30 40 50 60 70 80 90 100 "
          ]
        }
      ]
    },
    {
      "cell_type": "code",
      "source": [
        "#Problem 8\n",
        "info_list = [\"Bob\", \"Smith\", \"1234 Noplace Street\", \"Nowhere\", \"UT\", \"84999\"]\n",
        "for item in info_list:\n",
        "    print(item)"
      ],
      "metadata": {
        "colab": {
          "base_uri": "https://localhost:8080/"
        },
        "id": "g1YRBE4E0Aps",
        "outputId": "80d9f006-f577-402a-995b-1d7f2dae6cc2"
      },
      "execution_count": null,
      "outputs": [
        {
          "output_type": "stream",
          "name": "stdout",
          "text": [
            "Bob\n",
            "Smith\n",
            "1234 Noplace Street\n",
            "Nowhere\n",
            "UT\n",
            "84999\n"
          ]
        }
      ]
    },
    {
      "cell_type": "code",
      "source": [
        "#Problem 9\n",
        "while True:\n",
        "    age_str = input(\"Please enter your age: \")\n",
        "    if age_str.isdigit():\n",
        "        age = int(age_str)\n",
        "        if 1 <= age <= 125:\n",
        "            print(\"Your age is:\", age)\n",
        "            break\n",
        "        else:\n",
        "            print(\"Error: Please enter a number between 1 and 125.\")\n",
        "    else:\n",
        "        print(\"Error: Please enter a valid number.\")"
      ],
      "metadata": {
        "colab": {
          "base_uri": "https://localhost:8080/"
        },
        "id": "RME-5IQX0dBI",
        "outputId": "5b7adb78-965b-4c37-8fd3-0ea3ab469b79"
      },
      "execution_count": null,
      "outputs": [
        {
          "output_type": "stream",
          "name": "stdout",
          "text": [
            "Please enter your age: twelve\n",
            "Error: Please enter a valid integer.\n",
            "Please enter your age: morgan\n",
            "Error: Please enter a valid integer.\n",
            "Please enter your age: 0\n",
            "Error: Please enter an integer between 1 and 125.\n",
            "Please enter your age: 126\n",
            "Error: Please enter an integer between 1 and 125.\n",
            "Please enter your age: 5\n",
            "Your age is: 5\n"
          ]
        }
      ]
    }
  ]
}